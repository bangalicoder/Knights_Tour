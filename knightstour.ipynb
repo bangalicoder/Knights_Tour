{
 "cells": [
  {
   "cell_type": "code",
   "execution_count": 1,
   "metadata": {},
   "outputs": [],
   "source": [
    "move_i = [2,2,1,-1,-2,-2,-1,1]\n",
    "move_j = [1,-1,-2,-2,-1,1,2,2]\n",
    "\n",
    "def checkposition(board,M,N,i,j):\n",
    "    return (i<M and j<N and i>=0 and j>=0 and board[i][j]==0)\n",
    "\n",
    "def total(board,M,N,i,j):\n",
    "    s = 0\n",
    "    for x in range(len(move_i)):\n",
    "        i_new, j_new = i+move_i[x], j+move_j[x]\n",
    "        if checkposition(board,M,N,i_new,j_new):\n",
    "            if board[i_new][j_new]==0:\n",
    "                s+=1\n",
    "    return s\n",
    "\n",
    "def movement(board,M,N,i,j):\n",
    "    road = []\n",
    "    for x in range(len(move_i)):\n",
    "        i_new,j_new = i+move_i[x],j+move_j[x]\n",
    "        if checkposition(board,M,N,i_new,j_new):\n",
    "            s = total(board,M,N,i_new,j_new)\n",
    "            road.append((s,(i_new,j_new)))\n",
    "    road.sort()\n",
    "    itinary = [m[1] for m in road]\n",
    "    return itinary\n",
    "\n",
    "def tour(board,M,N,i,j,path):\n",
    "    if (sum(map(sum,board))==M*N):\n",
    "        return True\n",
    "    probable = movement(board,M,N,i,j)\n",
    "    if probable == []:\n",
    "        return False\n",
    "    for i in probable:\n",
    "        i_new = i[0]\n",
    "        j_new = i[1]\n",
    "        board[i_new][j_new] = 1\n",
    "        path.append((i_new+1,j_new+1))\n",
    "        if tour(board,M,N,i_new,j_new,path):\n",
    "            return True\n",
    "        else:\n",
    "            board[i_new][j_new] = 0\n",
    "            path.pop()\n",
    "\n",
    "def knightstour(M,N,i,j):\n",
    "    path = []\n",
    "    board = [[0 for i in range(N)] for j in range(M)]\n",
    "    board[i-1][j-1] = 1\n",
    "    path.append((i,j))\n",
    "    tour(board,M,N,i-1,j-1,path)\n",
    "    print(path)"
   ]
  },
  {
   "cell_type": "code",
   "execution_count": 2,
   "metadata": {},
   "outputs": [
    {
     "name": "stdout",
     "output_type": "stream",
     "text": [
      "[(1, 1), (2, 3), (1, 5), (2, 7), (4, 8), (6, 7), (8, 8), (7, 6), (6, 8), (8, 7), (7, 5), (8, 3), (7, 1), (5, 2), (3, 1), (1, 2), (2, 4), (1, 6), (2, 8), (3, 6), (1, 7), (3, 8), (5, 7), (7, 8), (8, 6), (7, 4), (8, 2), (6, 1), (4, 2), (2, 1), (1, 3), (3, 2), (5, 1), (6, 3), (8, 4), (7, 2), (5, 3), (4, 1), (2, 2), (1, 4), (3, 3), (2, 5), (4, 4), (6, 5), (4, 6), (3, 4), (5, 5), (4, 3), (6, 2), (8, 1), (7, 3), (5, 4), (3, 5), (4, 7), (2, 6), (1, 8), (3, 7), (4, 5), (6, 4), (5, 6), (7, 7), (5, 8), (6, 6), (8, 5)]\n"
     ]
    }
   ],
   "source": [
    "knightstour(8,8,1,1)"
   ]
  },
  {
   "cell_type": "code",
   "execution_count": null,
   "metadata": {},
   "outputs": [],
   "source": []
  }
 ],
 "metadata": {
  "kernelspec": {
   "display_name": "Python 3",
   "language": "python",
   "name": "python3"
  },
  "language_info": {
   "codemirror_mode": {
    "name": "ipython",
    "version": 3
   },
   "file_extension": ".py",
   "mimetype": "text/x-python",
   "name": "python",
   "nbconvert_exporter": "python",
   "pygments_lexer": "ipython3",
   "version": "3.8.5"
  }
 },
 "nbformat": 4,
 "nbformat_minor": 4
}
